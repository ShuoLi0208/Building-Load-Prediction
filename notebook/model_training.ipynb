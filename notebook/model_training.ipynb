{
 "cells": [
  {
   "cell_type": "markdown",
   "metadata": {},
   "source": [
    "# Model training and evaluation"
   ]
  },
  {
   "cell_type": "markdown",
   "metadata": {},
   "source": [
    "## 1 Data Pre-processing"
   ]
  },
  {
   "cell_type": "markdown",
   "metadata": {},
   "source": [
    "### Import libraries and packages"
   ]
  },
  {
   "cell_type": "code",
   "execution_count": 1,
   "metadata": {},
   "outputs": [],
   "source": [
    "# Basic Import\n",
    "import numpy as np\n",
    "import pandas as pd\n",
    "import matplotlib.pyplot as plt \n",
    "# Pre-processing\n",
    "from sklearn.impute import SimpleImputer\n",
    "from sklearn.preprocessing import OneHotEncoder, MinMaxScaler, StandardScaler\n",
    "from sklearn.compose import ColumnTransformer\n",
    "# Modelling\n",
    "from sklearn.pipeline import Pipeline\n",
    "from sklearn.model_selection import train_test_split\n",
    "from sklearn.metrics import mean_absolute_error, mean_squared_error, mean_absolute_percentage_error\n",
    "from sklearn.ensemble import RandomForestRegressor\n",
    "from sklearn.svm import SVR\n",
    "from sklearn.linear_model import LinearRegression, Ridge, Lasso, ElasticNet\n",
    "from xgboost import XGBRegressor\n",
    "from sklearn.model_selection import GridSearchCV, RandomizedSearchCV\n",
    "import warnings\n",
    "warnings.filterwarnings('ignore')"
   ]
  },
  {
   "cell_type": "code",
   "execution_count": 2,
   "metadata": {},
   "outputs": [],
   "source": [
    "df = pd.read_csv('data/ENB2012_data.csv')"
   ]
  },
  {
   "cell_type": "code",
   "execution_count": 3,
   "metadata": {},
   "outputs": [
    {
     "data": {
      "text/html": [
       "<div>\n",
       "<style scoped>\n",
       "    .dataframe tbody tr th:only-of-type {\n",
       "        vertical-align: middle;\n",
       "    }\n",
       "\n",
       "    .dataframe tbody tr th {\n",
       "        vertical-align: top;\n",
       "    }\n",
       "\n",
       "    .dataframe thead th {\n",
       "        text-align: right;\n",
       "    }\n",
       "</style>\n",
       "<table border=\"1\" class=\"dataframe\">\n",
       "  <thead>\n",
       "    <tr style=\"text-align: right;\">\n",
       "      <th></th>\n",
       "      <th>X1</th>\n",
       "      <th>X2</th>\n",
       "      <th>X3</th>\n",
       "      <th>X4</th>\n",
       "      <th>X5</th>\n",
       "      <th>X6</th>\n",
       "      <th>X7</th>\n",
       "      <th>X8</th>\n",
       "      <th>Y1</th>\n",
       "      <th>Y2</th>\n",
       "    </tr>\n",
       "  </thead>\n",
       "  <tbody>\n",
       "    <tr>\n",
       "      <th>0</th>\n",
       "      <td>0.98</td>\n",
       "      <td>514.5</td>\n",
       "      <td>294.0</td>\n",
       "      <td>110.25</td>\n",
       "      <td>7.0</td>\n",
       "      <td>2</td>\n",
       "      <td>0.0</td>\n",
       "      <td>0</td>\n",
       "      <td>15.55</td>\n",
       "      <td>21.33</td>\n",
       "    </tr>\n",
       "    <tr>\n",
       "      <th>1</th>\n",
       "      <td>0.98</td>\n",
       "      <td>514.5</td>\n",
       "      <td>294.0</td>\n",
       "      <td>110.25</td>\n",
       "      <td>7.0</td>\n",
       "      <td>3</td>\n",
       "      <td>0.0</td>\n",
       "      <td>0</td>\n",
       "      <td>15.55</td>\n",
       "      <td>21.33</td>\n",
       "    </tr>\n",
       "    <tr>\n",
       "      <th>2</th>\n",
       "      <td>0.98</td>\n",
       "      <td>514.5</td>\n",
       "      <td>294.0</td>\n",
       "      <td>110.25</td>\n",
       "      <td>7.0</td>\n",
       "      <td>4</td>\n",
       "      <td>0.0</td>\n",
       "      <td>0</td>\n",
       "      <td>15.55</td>\n",
       "      <td>21.33</td>\n",
       "    </tr>\n",
       "    <tr>\n",
       "      <th>3</th>\n",
       "      <td>0.98</td>\n",
       "      <td>514.5</td>\n",
       "      <td>294.0</td>\n",
       "      <td>110.25</td>\n",
       "      <td>7.0</td>\n",
       "      <td>5</td>\n",
       "      <td>0.0</td>\n",
       "      <td>0</td>\n",
       "      <td>15.55</td>\n",
       "      <td>21.33</td>\n",
       "    </tr>\n",
       "    <tr>\n",
       "      <th>4</th>\n",
       "      <td>0.90</td>\n",
       "      <td>563.5</td>\n",
       "      <td>318.5</td>\n",
       "      <td>122.50</td>\n",
       "      <td>7.0</td>\n",
       "      <td>2</td>\n",
       "      <td>0.0</td>\n",
       "      <td>0</td>\n",
       "      <td>20.84</td>\n",
       "      <td>28.28</td>\n",
       "    </tr>\n",
       "  </tbody>\n",
       "</table>\n",
       "</div>"
      ],
      "text/plain": [
       "     X1     X2     X3      X4   X5  X6   X7  X8     Y1     Y2\n",
       "0  0.98  514.5  294.0  110.25  7.0   2  0.0   0  15.55  21.33\n",
       "1  0.98  514.5  294.0  110.25  7.0   3  0.0   0  15.55  21.33\n",
       "2  0.98  514.5  294.0  110.25  7.0   4  0.0   0  15.55  21.33\n",
       "3  0.98  514.5  294.0  110.25  7.0   5  0.0   0  15.55  21.33\n",
       "4  0.90  563.5  318.5  122.50  7.0   2  0.0   0  20.84  28.28"
      ]
     },
     "execution_count": 3,
     "metadata": {},
     "output_type": "execute_result"
    }
   ],
   "source": [
    "df.head()"
   ]
  },
  {
   "cell_type": "markdown",
   "metadata": {},
   "source": [
    "### Preparing input X and output y"
   ]
  },
  {
   "cell_type": "code",
   "execution_count": 4,
   "metadata": {},
   "outputs": [],
   "source": [
    "# define input and output\n",
    "X = df.iloc[:, :-2] # 8 input variables\n",
    "y1 = df.iloc[:, -2] # first output\n",
    "y2 = df.iloc[:, -1] # second output"
   ]
  },
  {
   "cell_type": "code",
   "execution_count": 5,
   "metadata": {},
   "outputs": [],
   "source": [
    "# create column transformer and preprocessing pipeline\n",
    "num_features = X.select_dtypes(exclude=\"object\").columns\n",
    "cat_features = X.select_dtypes(include=\"object\").columns # no categorical feature in the data set, if yes, we may use e.g. OneHotEncoder\n",
    "\n",
    "num_pipeline = Pipeline([\n",
    "    (\"impute\", SimpleImputer(strategy=\"median\")),\n",
    "    (\"normalize\", MinMaxScaler()),\n",
    "])\n",
    "\n",
    "preprocessing = ColumnTransformer([\n",
    "    (\"num\", num_pipeline, num_features)\n",
    "])"
   ]
  },
  {
   "cell_type": "code",
   "execution_count": 6,
   "metadata": {},
   "outputs": [],
   "source": [
    "# X_prepared = preprocessing.fit_transform(X)"
   ]
  },
  {
   "cell_type": "code",
   "execution_count": 7,
   "metadata": {},
   "outputs": [],
   "source": [
    "# X_prepared.shape"
   ]
  },
  {
   "cell_type": "markdown",
   "metadata": {},
   "source": [
    "### Perform train test set split"
   ]
  },
  {
   "cell_type": "code",
   "execution_count": 8,
   "metadata": {},
   "outputs": [],
   "source": [
    "# divide the dataset as train and test sets\n",
    "X_train1, X_test1, y_train1, y_test1 = train_test_split(X, y1, test_size=0.3, random_state=42)\n",
    "X_train2, X_test2, y_train2, y_test2 = train_test_split(X, y2, test_size=0.3, random_state=42)"
   ]
  },
  {
   "cell_type": "code",
   "execution_count": 9,
   "metadata": {},
   "outputs": [
    {
     "data": {
      "text/html": [
       "<div>\n",
       "<style scoped>\n",
       "    .dataframe tbody tr th:only-of-type {\n",
       "        vertical-align: middle;\n",
       "    }\n",
       "\n",
       "    .dataframe tbody tr th {\n",
       "        vertical-align: top;\n",
       "    }\n",
       "\n",
       "    .dataframe thead th {\n",
       "        text-align: right;\n",
       "    }\n",
       "</style>\n",
       "<table border=\"1\" class=\"dataframe\">\n",
       "  <thead>\n",
       "    <tr style=\"text-align: right;\">\n",
       "      <th></th>\n",
       "      <th>X1</th>\n",
       "      <th>X2</th>\n",
       "      <th>X3</th>\n",
       "      <th>X4</th>\n",
       "      <th>X5</th>\n",
       "      <th>X6</th>\n",
       "      <th>X7</th>\n",
       "      <th>X8</th>\n",
       "    </tr>\n",
       "  </thead>\n",
       "  <tbody>\n",
       "    <tr>\n",
       "      <th>334</th>\n",
       "      <td>0.62</td>\n",
       "      <td>808.5</td>\n",
       "      <td>367.5</td>\n",
       "      <td>220.5</td>\n",
       "      <td>3.5</td>\n",
       "      <td>4</td>\n",
       "      <td>0.25</td>\n",
       "      <td>1</td>\n",
       "    </tr>\n",
       "    <tr>\n",
       "      <th>139</th>\n",
       "      <td>0.64</td>\n",
       "      <td>784.0</td>\n",
       "      <td>343.0</td>\n",
       "      <td>220.5</td>\n",
       "      <td>3.5</td>\n",
       "      <td>5</td>\n",
       "      <td>0.10</td>\n",
       "      <td>2</td>\n",
       "    </tr>\n",
       "    <tr>\n",
       "      <th>485</th>\n",
       "      <td>0.90</td>\n",
       "      <td>563.5</td>\n",
       "      <td>318.5</td>\n",
       "      <td>122.5</td>\n",
       "      <td>7.0</td>\n",
       "      <td>3</td>\n",
       "      <td>0.25</td>\n",
       "      <td>5</td>\n",
       "    </tr>\n",
       "    <tr>\n",
       "      <th>547</th>\n",
       "      <td>0.79</td>\n",
       "      <td>637.0</td>\n",
       "      <td>343.0</td>\n",
       "      <td>147.0</td>\n",
       "      <td>7.0</td>\n",
       "      <td>5</td>\n",
       "      <td>0.40</td>\n",
       "      <td>1</td>\n",
       "    </tr>\n",
       "    <tr>\n",
       "      <th>18</th>\n",
       "      <td>0.79</td>\n",
       "      <td>637.0</td>\n",
       "      <td>343.0</td>\n",
       "      <td>147.0</td>\n",
       "      <td>7.0</td>\n",
       "      <td>4</td>\n",
       "      <td>0.00</td>\n",
       "      <td>0</td>\n",
       "    </tr>\n",
       "  </tbody>\n",
       "</table>\n",
       "</div>"
      ],
      "text/plain": [
       "       X1     X2     X3     X4   X5  X6    X7  X8\n",
       "334  0.62  808.5  367.5  220.5  3.5   4  0.25   1\n",
       "139  0.64  784.0  343.0  220.5  3.5   5  0.10   2\n",
       "485  0.90  563.5  318.5  122.5  7.0   3  0.25   5\n",
       "547  0.79  637.0  343.0  147.0  7.0   5  0.40   1\n",
       "18   0.79  637.0  343.0  147.0  7.0   4  0.00   0"
      ]
     },
     "execution_count": 9,
     "metadata": {},
     "output_type": "execute_result"
    }
   ],
   "source": [
    "X_train1.head()"
   ]
  },
  {
   "cell_type": "code",
   "execution_count": 10,
   "metadata": {},
   "outputs": [
    {
     "data": {
      "text/plain": [
       "334    15.08\n",
       "139    15.19\n",
       "485    32.31\n",
       "547    41.67\n",
       "18     29.63\n",
       "Name: Y1, dtype: float64"
      ]
     },
     "execution_count": 10,
     "metadata": {},
     "output_type": "execute_result"
    }
   ],
   "source": [
    "y_train1.head()"
   ]
  },
  {
   "cell_type": "markdown",
   "metadata": {},
   "source": [
    "\n",
    "## 2 Define model performance evaluation metrics\n",
    "* Mean absolute error (MAE)\n",
    "* Root mean squared error (RMSE)\n",
    "* Mean absolute percentage error (MAPE)"
   ]
  },
  {
   "cell_type": "code",
   "execution_count": 11,
   "metadata": {},
   "outputs": [],
   "source": [
    "def evaluate_model(true, pred):\n",
    "    mae = mean_absolute_error(true, pred)\n",
    "    mse = mean_squared_error(true, pred)\n",
    "    rmse = np.sqrt(mse)\n",
    "    mape = mean_absolute_percentage_error(true, pred)\n",
    "\n",
    "    return mae, rmse, mape"
   ]
  },
  {
   "cell_type": "markdown",
   "metadata": {},
   "source": [
    "## 3 Model training and hyper-parameter tuning\n",
    "* List of models include linear regression, support vector regression and random forest\n",
    "* Use k-fold cross-validation to perform hyperparameter tuning"
   ]
  },
  {
   "cell_type": "code",
   "execution_count": 12,
   "metadata": {},
   "outputs": [],
   "source": [
    "# create a dictionary of different models\n",
    "models = {\n",
    "    \"linear_regression\": LinearRegression(),\n",
    "    \"lasso\": Lasso(),\n",
    "    \"ridge\": Ridge(),\n",
    "    \"elastic_net\": ElasticNet(),\n",
    "    \"support_vector_regressor\": SVR(),\n",
    "    \"random_forest_regressor\": RandomForestRegressor(random_state=42),\n",
    "}\n"
   ]
  },
  {
   "cell_type": "code",
   "execution_count": 13,
   "metadata": {},
   "outputs": [],
   "source": [
    "# create a list that stores all the hyper-parameters for all the models\n",
    "param_grids = [\n",
    "    {},\n",
    "    {\"lasso__alpha\": [0.1, 0.2, 0.5, 1, 2, 5, 10, 20]},\n",
    "    {\"ridge__alpha\": [0.1, 0.3, 1, 2, 5, 10, 20, 50, 100, 200]},\n",
    "    {\"elastic_net__alpha\": [0.1, 0.3, 1, 3, 10],\n",
    "     \"elastic_net__l1_ratio\": [1, 3, 10, 30, 100]},\n",
    "    {\"svr__kernel\": ['linear', 'poly', 'rbf', 'sigmoid'],\n",
    "     \"svr__C\": [0.1, 1, 10, 100],\n",
    "     \"svr__epsilon\": [0.01, 0.1, 1]},\n",
    "    {\"random_forest__n_estimators\": [10, 30, 100, 300],\n",
    "     \"random_forest__max_depth\": [3, 4, 5, 6],\n",
    "     \"random_forest__min_samples_split\": [2, 3, 4, 5],\n",
    "     \"random_forest__max_features\": ['sqrt', 'log2']},\n",
    "]"
   ]
  },
  {
   "cell_type": "code",
   "execution_count": 14,
   "metadata": {},
   "outputs": [
    {
     "name": "stdout",
     "output_type": "stream",
     "text": [
      "linear_regression\n",
      "Model performance (heating load) for Training set\n",
      "- Root Mean Squared Error: 2.8976\n",
      "- Mean Absolute Error: 2.0388\n",
      "- Mean Absolute Percentage Error: 0.0970\n",
      "----------------------------------\n",
      "Model performance (heating load) for Test set\n",
      "- Root Mean Squared Error: 2.9731\n",
      "- Mean Absolute Error: 2.1551\n",
      "- Mean Absolute Percentage Error: 0.0998\n",
      "----------------------------------\n",
      "Model performance (cooling load) for Training set\n",
      "- Root Mean Squared Error: 3.1793\n",
      "- Mean Absolute Error: 2.2195\n",
      "- Mean Absolute Percentage Error: 0.0884\n",
      "----------------------------------\n",
      "Model performance (cooling load) for Test set\n",
      "- Root Mean Squared Error: 3.2055\n",
      "- Mean Absolute Error: 2.2581\n",
      "- Mean Absolute Percentage Error: 0.0864\n",
      "===================================\n",
      "\n",
      "\n",
      "lasso\n",
      "Model performance (heating load) for Training set\n",
      "- Root Mean Squared Error: 3.0404\n",
      "- Mean Absolute Error: 2.1383\n",
      "- Mean Absolute Percentage Error: 0.1008\n",
      "----------------------------------\n",
      "Model performance (heating load) for Test set\n",
      "- Root Mean Squared Error: 3.1036\n",
      "- Mean Absolute Error: 2.2083\n",
      "- Mean Absolute Percentage Error: 0.1008\n",
      "----------------------------------\n",
      "Model performance (cooling load) for Training set\n",
      "- Root Mean Squared Error: 3.3369\n",
      "- Mean Absolute Error: 2.3496\n",
      "- Mean Absolute Percentage Error: 0.0944\n",
      "----------------------------------\n",
      "Model performance (cooling load) for Test set\n",
      "- Root Mean Squared Error: 3.3835\n",
      "- Mean Absolute Error: 2.3835\n",
      "- Mean Absolute Percentage Error: 0.0911\n",
      "===================================\n",
      "\n",
      "\n",
      "ridge\n",
      "Model performance (heating load) for Training set\n",
      "- Root Mean Squared Error: 2.9014\n",
      "- Mean Absolute Error: 2.0448\n",
      "- Mean Absolute Percentage Error: 0.0982\n",
      "----------------------------------\n",
      "Model performance (heating load) for Test set\n",
      "- Root Mean Squared Error: 2.9786\n",
      "- Mean Absolute Error: 2.1558\n",
      "- Mean Absolute Percentage Error: 0.1006\n",
      "----------------------------------\n",
      "Model performance (cooling load) for Training set\n",
      "- Root Mean Squared Error: 3.1839\n",
      "- Mean Absolute Error: 2.2245\n",
      "- Mean Absolute Percentage Error: 0.0899\n",
      "----------------------------------\n",
      "Model performance (cooling load) for Test set\n",
      "- Root Mean Squared Error: 3.2071\n",
      "- Mean Absolute Error: 2.2579\n",
      "- Mean Absolute Percentage Error: 0.0872\n",
      "===================================\n",
      "\n",
      "\n",
      "elastic_net\n",
      "Model performance (heating load) for Training set\n",
      "- Root Mean Squared Error: 3.0404\n",
      "- Mean Absolute Error: 2.1383\n",
      "- Mean Absolute Percentage Error: 0.1008\n",
      "----------------------------------\n",
      "Model performance (heating load) for Test set\n",
      "- Root Mean Squared Error: 3.1036\n",
      "- Mean Absolute Error: 2.2083\n",
      "- Mean Absolute Percentage Error: 0.1008\n",
      "----------------------------------\n",
      "Model performance (cooling load) for Training set\n",
      "- Root Mean Squared Error: 3.3369\n",
      "- Mean Absolute Error: 2.3496\n",
      "- Mean Absolute Percentage Error: 0.0944\n",
      "----------------------------------\n",
      "Model performance (cooling load) for Test set\n",
      "- Root Mean Squared Error: 3.3835\n",
      "- Mean Absolute Error: 2.3835\n",
      "- Mean Absolute Percentage Error: 0.0911\n",
      "===================================\n",
      "\n",
      "\n",
      "support_vector_regressor\n",
      "Model performance (heating load) for Training set\n",
      "- Root Mean Squared Error: 1.1126\n",
      "- Mean Absolute Error: 0.9598\n",
      "- Mean Absolute Percentage Error: 0.0543\n",
      "----------------------------------\n",
      "Model performance (heating load) for Test set\n",
      "- Root Mean Squared Error: 1.1688\n",
      "- Mean Absolute Error: 0.9819\n",
      "- Mean Absolute Percentage Error: 0.0542\n",
      "----------------------------------\n",
      "Model performance (cooling load) for Training set\n",
      "- Root Mean Squared Error: 1.9191\n",
      "- Mean Absolute Error: 1.4024\n",
      "- Mean Absolute Percentage Error: 0.0597\n",
      "----------------------------------\n",
      "Model performance (cooling load) for Test set\n",
      "- Root Mean Squared Error: 2.1033\n",
      "- Mean Absolute Error: 1.5805\n",
      "- Mean Absolute Percentage Error: 0.0646\n",
      "===================================\n",
      "\n",
      "\n",
      "random_forest_regressor\n",
      "Model performance (heating load) for Training set\n",
      "- Root Mean Squared Error: 0.7232\n",
      "- Mean Absolute Error: 0.5534\n",
      "- Mean Absolute Percentage Error: 0.0261\n",
      "----------------------------------\n",
      "Model performance (heating load) for Test set\n",
      "- Root Mean Squared Error: 0.8538\n",
      "- Mean Absolute Error: 0.6646\n",
      "- Mean Absolute Percentage Error: 0.0301\n",
      "----------------------------------\n",
      "Model performance (cooling load) for Training set\n",
      "- Root Mean Squared Error: 1.4947\n",
      "- Mean Absolute Error: 1.0172\n",
      "- Mean Absolute Percentage Error: 0.0364\n",
      "----------------------------------\n",
      "Model performance (cooling load) for Test set\n",
      "- Root Mean Squared Error: 1.7960\n",
      "- Mean Absolute Error: 1.2350\n",
      "- Mean Absolute Percentage Error: 0.0426\n",
      "===================================\n",
      "\n",
      "\n"
     ]
    }
   ],
   "source": [
    "model_list = []\n",
    "final_model1_list = []\n",
    "final_model2_list = []\n",
    "mape1_list =[]\n",
    "mape2_list = []\n",
    "\n",
    "for i in range(len(list(models))):\n",
    "    model = list(models.values())[i]\n",
    "    param_grid = param_grids[i]\n",
    "    if len(param_grid.keys())==0:\n",
    "        model_name = \"reg\"\n",
    "    else:\n",
    "        first_hyperparam = list(param_grid.keys())[0]\n",
    "        model_name = first_hyperparam.split(\"__\")[0] # get the model name so that scikit-learn pipeline can recognize the hyperparams\n",
    "\n",
    "    # build the full pipeline fropm preprocessing to model training\n",
    "    full_pipeline = Pipeline([\n",
    "        ('preprocessing', preprocessing),\n",
    "        (model_name, model)\n",
    "    ])\n",
    "\n",
    "    # hyperparameter tuning using GridSearch cross-validation\n",
    "    grid_search = GridSearchCV(full_pipeline, param_grid=param_grid, cv=5)\n",
    "\n",
    "    # Train model and make predictions for y1\n",
    "    grid_search.fit(X_train1, y_train1) # Train model\n",
    "    final_model1 = grid_search.best_estimator_ # include pre-processing\n",
    "    final_model1_list.append(final_model1) \n",
    "    y_train1_pred = grid_search.predict(X_train1)\n",
    "    y_test1_pred = grid_search.predict(X_test1)\n",
    "\n",
    "    # Train model and make predictions for y2\n",
    "    grid_search.fit(X_train2, y_train2) # Train model\n",
    "    final_model2 = grid_search.best_estimator_ # include pre-processing\n",
    "    final_model2_list.append(final_model2) \n",
    "    y_train2_pred = grid_search.predict(X_train2)\n",
    "    y_test2_pred = grid_search.predict(X_test2)\n",
    "    \n",
    "    # Evaluate Train and Test dataset\n",
    "    model_train1_mae , model_train1_rmse, model_train1_mape = evaluate_model(y_train1, y_train1_pred)\n",
    "\n",
    "    model_test1_mae , model_test1_rmse, model_test1_mape = evaluate_model(y_test1, y_test1_pred)\n",
    "\n",
    "    model_train2_mae , model_train2_rmse, model_train2_mape = evaluate_model(y_train2, y_train2_pred)\n",
    "\n",
    "    model_test2_mae , model_test2_rmse, model_test2_mape = evaluate_model(y_test2, y_test2_pred)\n",
    "    \n",
    "    print(list(models.keys())[i])\n",
    "    model_list.append(list(models.keys())[i])\n",
    "    \n",
    "    print('Model performance (heating load) for Training set')\n",
    "    print(\"- Root Mean Squared Error: {:.4f}\".format(model_train1_rmse))\n",
    "    print(\"- Mean Absolute Error: {:.4f}\".format(model_train1_mae))\n",
    "    print(\"- Mean Absolute Percentage Error: {:.4f}\".format(model_train1_mape))\n",
    "\n",
    "    print('----------------------------------')\n",
    "    \n",
    "    print('Model performance (heating load) for Test set')\n",
    "    print(\"- Root Mean Squared Error: {:.4f}\".format(model_test1_rmse))\n",
    "    print(\"- Mean Absolute Error: {:.4f}\".format(model_test1_mae))\n",
    "    print(\"- Mean Absolute Percentage Error: {:.4f}\".format(model_test1_mape))\n",
    "    mape1_list.append(model_test1_mape)\n",
    "\n",
    "    print('----------------------------------')\n",
    "\n",
    "    print('Model performance (cooling load) for Training set')\n",
    "    print(\"- Root Mean Squared Error: {:.4f}\".format(model_train2_rmse))\n",
    "    print(\"- Mean Absolute Error: {:.4f}\".format(model_train2_mae))\n",
    "    print(\"- Mean Absolute Percentage Error: {:.4f}\".format(model_train2_mape))\n",
    "\n",
    "    print('----------------------------------')\n",
    "    \n",
    "    print('Model performance (cooling load) for Test set')\n",
    "    print(\"- Root Mean Squared Error: {:.4f}\".format(model_test2_rmse))\n",
    "    print(\"- Mean Absolute Error: {:.4f}\".format(model_test2_mae))\n",
    "    print(\"- Mean Absolute Percentage Error: {:.4f}\".format(model_test2_mape))\n",
    "    mape2_list.append(model_test2_mape)\n",
    "\n",
    "    print('='*35)\n",
    "    print('\\n')\n",
    "    \n",
    "    \n",
    "# save the model that produces the smallest MAPE in the test set\n",
    "final_model_y1 = final_model1_list[mape1_list.index(min(mape1_list))]\n",
    "final_model_y2 = final_model1_list[mape2_list.index(min(mape2_list))]\n",
    "\n"
   ]
  },
  {
   "cell_type": "code",
   "execution_count": 17,
   "metadata": {},
   "outputs": [
    {
     "data": {
      "text/html": [
       "<div>\n",
       "<style scoped>\n",
       "    .dataframe tbody tr th:only-of-type {\n",
       "        vertical-align: middle;\n",
       "    }\n",
       "\n",
       "    .dataframe tbody tr th {\n",
       "        vertical-align: top;\n",
       "    }\n",
       "\n",
       "    .dataframe thead th {\n",
       "        text-align: right;\n",
       "    }\n",
       "</style>\n",
       "<table border=\"1\" class=\"dataframe\">\n",
       "  <thead>\n",
       "    <tr style=\"text-align: right;\">\n",
       "      <th></th>\n",
       "      <th>Model Name</th>\n",
       "      <th>MAPE</th>\n",
       "    </tr>\n",
       "  </thead>\n",
       "  <tbody>\n",
       "    <tr>\n",
       "      <th>1</th>\n",
       "      <td>lasso</td>\n",
       "      <td>0.100793</td>\n",
       "    </tr>\n",
       "    <tr>\n",
       "      <th>3</th>\n",
       "      <td>elastic_net</td>\n",
       "      <td>0.100793</td>\n",
       "    </tr>\n",
       "    <tr>\n",
       "      <th>2</th>\n",
       "      <td>ridge</td>\n",
       "      <td>0.100597</td>\n",
       "    </tr>\n",
       "    <tr>\n",
       "      <th>0</th>\n",
       "      <td>linear_regression</td>\n",
       "      <td>0.099798</td>\n",
       "    </tr>\n",
       "    <tr>\n",
       "      <th>4</th>\n",
       "      <td>support_vector_regressor</td>\n",
       "      <td>0.054152</td>\n",
       "    </tr>\n",
       "    <tr>\n",
       "      <th>5</th>\n",
       "      <td>random_forest_regressor</td>\n",
       "      <td>0.030101</td>\n",
       "    </tr>\n",
       "  </tbody>\n",
       "</table>\n",
       "</div>"
      ],
      "text/plain": [
       "                 Model Name      MAPE\n",
       "1                     lasso  0.100793\n",
       "3               elastic_net  0.100793\n",
       "2                     ridge  0.100597\n",
       "0         linear_regression  0.099798\n",
       "4  support_vector_regressor  0.054152\n",
       "5   random_forest_regressor  0.030101"
      ]
     },
     "execution_count": 17,
     "metadata": {},
     "output_type": "execute_result"
    }
   ],
   "source": [
    "model_performance_y1 = pd.DataFrame(list(zip(model_list, mape1_list)), columns=['Model Name', 'MAPE']).sort_values(by=[\"MAPE\"], ascending=False)\n",
    "model_performance_y1"
   ]
  },
  {
   "cell_type": "code",
   "execution_count": 18,
   "metadata": {},
   "outputs": [
    {
     "data": {
      "text/html": [
       "<div>\n",
       "<style scoped>\n",
       "    .dataframe tbody tr th:only-of-type {\n",
       "        vertical-align: middle;\n",
       "    }\n",
       "\n",
       "    .dataframe tbody tr th {\n",
       "        vertical-align: top;\n",
       "    }\n",
       "\n",
       "    .dataframe thead th {\n",
       "        text-align: right;\n",
       "    }\n",
       "</style>\n",
       "<table border=\"1\" class=\"dataframe\">\n",
       "  <thead>\n",
       "    <tr style=\"text-align: right;\">\n",
       "      <th></th>\n",
       "      <th>Model Name</th>\n",
       "      <th>MAPE</th>\n",
       "    </tr>\n",
       "  </thead>\n",
       "  <tbody>\n",
       "    <tr>\n",
       "      <th>1</th>\n",
       "      <td>lasso</td>\n",
       "      <td>0.091066</td>\n",
       "    </tr>\n",
       "    <tr>\n",
       "      <th>3</th>\n",
       "      <td>elastic_net</td>\n",
       "      <td>0.091066</td>\n",
       "    </tr>\n",
       "    <tr>\n",
       "      <th>2</th>\n",
       "      <td>ridge</td>\n",
       "      <td>0.087195</td>\n",
       "    </tr>\n",
       "    <tr>\n",
       "      <th>0</th>\n",
       "      <td>linear_regression</td>\n",
       "      <td>0.086370</td>\n",
       "    </tr>\n",
       "    <tr>\n",
       "      <th>4</th>\n",
       "      <td>support_vector_regressor</td>\n",
       "      <td>0.064576</td>\n",
       "    </tr>\n",
       "    <tr>\n",
       "      <th>5</th>\n",
       "      <td>random_forest_regressor</td>\n",
       "      <td>0.042635</td>\n",
       "    </tr>\n",
       "  </tbody>\n",
       "</table>\n",
       "</div>"
      ],
      "text/plain": [
       "                 Model Name      MAPE\n",
       "1                     lasso  0.091066\n",
       "3               elastic_net  0.091066\n",
       "2                     ridge  0.087195\n",
       "0         linear_regression  0.086370\n",
       "4  support_vector_regressor  0.064576\n",
       "5   random_forest_regressor  0.042635"
      ]
     },
     "execution_count": 18,
     "metadata": {},
     "output_type": "execute_result"
    }
   ],
   "source": [
    "model_performance_y2 = pd.DataFrame(list(zip(model_list, mape2_list)), columns=['Model Name', 'MAPE']).sort_values(by=[\"MAPE\"], ascending=False)\n",
    "model_performance_y2"
   ]
  },
  {
   "cell_type": "markdown",
   "metadata": {},
   "source": [
    "### Insight:\n",
    "* Of all the models implemented, Random Forest has the best performance."
   ]
  },
  {
   "cell_type": "markdown",
   "metadata": {},
   "source": [
    "## 4 Model prediction on test dataset"
   ]
  },
  {
   "cell_type": "code",
   "execution_count": 19,
   "metadata": {},
   "outputs": [
    {
     "data": {
      "text/plain": [
       "Text(0.5, 1.0, 'Heating load (test set)')"
      ]
     },
     "execution_count": 19,
     "metadata": {},
     "output_type": "execute_result"
    },
    {
     "data": {
      "image/png": "[encoded data removed]",
      "text/plain": [
       "<Figure size 640x480 with 1 Axes>"
      ]
     },
     "metadata": {},
     "output_type": "display_data"
    }
   ],
   "source": [
    "# prediction on heating load (y1)\n",
    "y_pred1 = final_model_y1.predict(X_test1)\n",
    "plt.scatter(y_test1, y_pred1)\n",
    "plt.xlabel(\"True\")\n",
    "plt.ylabel(\"Pred\")\n",
    "plt.title(\"Heating load (test set)\")"
   ]
  },
  {
   "cell_type": "code",
   "execution_count": 20,
   "metadata": {},
   "outputs": [
    {
     "data": {
      "text/plain": [
       "Text(0.5, 1.0, 'Cooling load (test set)')"
      ]
     },
     "execution_count": 20,
     "metadata": {},
     "output_type": "execute_result"
    },
    {
     "data": {
      "image/png": "[encoded data removed]",
      "text/plain": [
       "<Figure size 640x480 with 1 Axes>"
      ]
     },
     "metadata": {},
     "output_type": "display_data"
    }
   ],
   "source": [
    "# prediction on cooling load (y2)\n",
    "y_pred2 = final_model_y2.predict(X_test2)\n",
    "plt.scatter(y_test2, y_pred2)\n",
    "plt.xlabel(\"True\")\n",
    "plt.ylabel(\"Pred\")\n",
    "plt.title(\"Cooling load (test set)\")"
   ]
  },
  {
   "cell_type": "code",
   "execution_count": null,
   "metadata": {},
   "outputs": [],
   "source": []
  }
 ],
 "metadata": {
  "kernelspec": {
   "display_name": "venv",
   "language": "python",
   "name": "venv"
  },
  "language_info": {
   "codemirror_mode": {
    "name": "ipython",
    "version": 3
   },
   "file_extension": ".py",
   "mimetype": "text/x-python",
   "name": "python",
   "nbconvert_exporter": "python",
   "pygments_lexer": "ipython3",
   "version": "3.8.16"
  },
  "vscode": {
   "interpreter": {
    "hash": "9572be02e9f3d6ab5a56c3c22415f2b7abd6b1acc123219dac588b8b14e8c57f"
   }
  }
 },
 "nbformat": 4,
 "nbformat_minor": 2
}
